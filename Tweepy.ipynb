{
 "cells": [
  {
   "cell_type": "code",
   "execution_count": 1,
   "metadata": {},
   "outputs": [],
   "source": [
    "import tweepy\n",
    "\n",
    "import pandas as pd\n",
    "import numpy as np\n",
    "from tweepy import API\n",
    "from tweepy import Cursor"
   ]
  },
  {
   "cell_type": "code",
   "execution_count": 2,
   "metadata": {},
   "outputs": [],
   "source": [
    "#TWITTER CREDENTIALS\n",
    "consumer_key = \"z4LkBh9F3EcTqXgt0UoIppWqw\"\n",
    "consumer_secret = \"EktrU4JUXsOToQL9cpSGIST1fxoh8WNUQPYziSW1HeE7L67lXN\"\n",
    "access_token = \"1162818962100350976-qPhML3kmwGReP2q3di7qP4ooITyj5d\"\n",
    "access_token_secret = \"O0UndzXB6qiPeBOVrW7hcyx64sJhtePsUIN81RFGBHYC6\""
   ]
  },
  {
   "cell_type": "code",
   "execution_count": 3,
   "metadata": {},
   "outputs": [],
   "source": [
    "\n",
    "from tweepy import OAuthHandler\n",
    "\n",
    "class TwitterClient():\n",
    "    def __init__(self,twitter_user = None):\n",
    "        self.auth = TwitterAUth().auth_twitter_app()\n",
    "        self.twitter_client = API(self.auth)\n",
    "        self.twitter_user = twitter_user\n",
    "        \n",
    "    def get_tweets(self, num_tweets):\n",
    "        tweets = []\n",
    "        for tweet in Cursor(self.twitter_client.user_timeline,id = self.twitter_user).items(num_tweets):\n",
    "            tweets.append(tweet)\n",
    "        return tweets\n",
    "    def get_twitter_client_api(self):\n",
    "        return self.twitter_client\n",
    "        \n",
    "    \n",
    "            \n",
    "        \n",
    "class TwitterAUth():\n",
    "    def auth_twitter_app(self):\n",
    "        auth = OAuthHandler(consumer_key, consumer_secret)\n",
    "        auth.set_access_token(access_token, access_token_secret)\n",
    "        return auth\n",
    "        \n",
    "\n",
    "        "
   ]
  },
  {
   "cell_type": "code",
   "execution_count": 4,
   "metadata": {},
   "outputs": [],
   "source": [
    "\n",
    "class analyzer():\n",
    "    def tweets_df(self,tweets):\n",
    "        df = pd.DataFrame(data = [tweet.text for tweet in tweets],columns = ['Tweets'])\n",
    "        df['id'] = np.array([tweet.id for tweet in tweets])\n",
    "        df['source'] = np.array([tweet.source_url for tweet in tweets])\n",
    "        df['Location'] = np.array([tweet.place for tweet in tweets])\n",
    "        df['likes'] = np.array([tweet.favorite_count for tweet in tweets])\n",
    "        df['retweets'] = np.array([tweet.retweet_count  for tweet in tweets])\n",
    "        df['comments'] = np.array([tweet.in_reply_to_user_id_str  for tweet in tweets])\n",
    "        df['Time'] = np.array([tweet.created_at  for tweet in tweets])\n",
    "        \n",
    "        return df\n",
    "    \n",
    "        \n",
    "        \n"
   ]
  },
  {
   "cell_type": "code",
   "execution_count": 5,
   "metadata": {},
   "outputs": [
    {
     "name": "stdout",
     "output_type": "stream",
     "text": [
      "                                              Tweets                   id  \\\n",
      "0  Majoritarianism taking India down ‘dark and un...  1183141556779241472   \n",
      "1  BJP urges Scindia to walk out of Congress http...  1183137798385098753   \n",
      "2  SC's Ayodhya hearing gives a breather to Sahar...  1183133999268417537   \n",
      "3  I-T raids on home of AICC cashier https://t.co...  1183130360097280000   \n",
      "4  India, China to establish high-level economic ...  1183130232158482433   \n",
      "5  PM will inaugurate Kartarpur corridor on Nov 8...  1183118934850932737   \n",
      "6  70 days on, Valley's postpaid mobiles to come ...  1183115156156403712   \n",
      "7  ED probes Praful Patel's alleged land deal wit...  1183111388220182529   \n",
      "8  Xi doesn't raise Kashmir with Modi as they see...  1183096253590097920   \n",
      "9  Women are more vulnerable to climate change: E...  1183081194360987648   \n",
      "\n",
      "              source Location  likes  retweets comments                Time  \n",
      "0  http://www.toi.in     None      4         1     None 2019-10-12 22:05:03  \n",
      "1  http://www.toi.in     None      2         0     None 2019-10-12 21:50:07  \n",
      "2  http://www.toi.in     None      2         0     None 2019-10-12 21:35:01  \n",
      "3  http://www.toi.in     None      6         1     None 2019-10-12 21:20:34  \n",
      "4  http://www.toi.in     None      8         3     None 2019-10-12 21:20:03  \n",
      "5  http://www.toi.in     None      6         2     None 2019-10-12 20:35:10  \n",
      "6  http://www.toi.in     None      9         0     None 2019-10-12 20:20:09  \n",
      "7  http://www.toi.in     None     22         7     None 2019-10-12 20:05:10  \n",
      "8  http://www.toi.in     None     17         3     None 2019-10-12 19:05:02  \n",
      "9  http://www.toi.in     None      7         3     None 2019-10-12 18:05:11  \n"
     ]
    }
   ],
   "source": [
    "if __name__ == '__main__' :\n",
    "    \n",
    "    \n",
    "    twitter_client = TwitterClient()\n",
    "    tweet_analyzer = analyzer()\n",
    "     \n",
    "    api = twitter_client.get_twitter_client_api()\n",
    "    tweets = api.user_timeline(screen_name=\"TOIIndiaNews\" , count = 100)\n",
    "    df = tweet_analyzer.tweets_df(tweets)\n",
    "    \n",
    "    df.to_json(r'\\Tweets.json')    \n",
    "    #print(dir(tweets[0]))\n",
    "    \n",
    "    print(df.head(10))\n",
    "    \n",
    "     "
   ]
  },
  {
   "cell_type": "code",
   "execution_count": null,
   "metadata": {},
   "outputs": [],
   "source": []
  },
  {
   "cell_type": "code",
   "execution_count": null,
   "metadata": {},
   "outputs": [],
   "source": []
  },
  {
   "cell_type": "code",
   "execution_count": null,
   "metadata": {},
   "outputs": [],
   "source": []
  },
  {
   "cell_type": "code",
   "execution_count": null,
   "metadata": {},
   "outputs": [],
   "source": []
  }
 ],
 "metadata": {
  "kernelspec": {
   "display_name": "Python 3",
   "language": "python",
   "name": "python3"
  },
  "language_info": {
   "codemirror_mode": {
    "name": "ipython",
    "version": 3
   },
   "file_extension": ".py",
   "mimetype": "text/x-python",
   "name": "python",
   "nbconvert_exporter": "python",
   "pygments_lexer": "ipython3",
   "version": "3.7.3"
  }
 },
 "nbformat": 4,
 "nbformat_minor": 2
}
